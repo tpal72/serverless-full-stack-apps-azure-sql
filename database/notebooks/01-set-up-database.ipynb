{
    "metadata": {
        "kernelspec": {
            "name": "SQL",
            "display_name": "SQL",
            "language": "sql"
        },
        "language_info": {
            "name": "sql",
            "version": ""
        }
    },
    "nbformat_minor": 2,
    "nbformat": 4,
    "cells": [
        {
            "cell_type": "markdown",
            "source": [
                "# Set up Azure SQL Database for catching the bus application\n",
                "\n",
                "This is a SQL Notebook, which allows you to separate text and code blocks and save code results. Azure Data Studio supports several languages, referred to as kernels, including SQL, PowerShell, Python, and more.\n",
                "\n",
                "In this activity, you'll learn how to import data into Azure SQL Database and create tables to store the route data, geofence data, and real-time bus information.\n",
                "\n",
                "## Connect to `bus-db`\n",
                "\n",
                "At the top of the window, select **Select Connection** \\> **Change Connection** next to \"Attach to\".\n",
                "\n",
                "Under _Recent Connections_ select your `bus-db` connection.\n",
                "\n",
                "You should now see it listed next to _Attach to_."
            ],
            "metadata": {
                "azdata_cell_guid": "a2782576-c8ad-483e-bd03-289dd656844c"
            }
        },
        {
            "cell_type": "markdown",
            "source": [
                "## Part 1: Import the bus route data from Azure Blob Storage\n",
                "\n",
                "The first step in configuring the database for the scenario is to import a CSV file that contains route information data. The following script will walk you through that process. Full documentation on \"Accessing data in a CSV file referencing an Azure blob storage location\" here: [https://docs.microsoft.com/sql/relational-databases/import-export/examples-of-bulk-access-to-data-in-azure-blob-storage](https://docs.microsoft.com/sql/relational-databases/import-export/examples-of-bulk-access-to-data-in-azure-blob-storage).\n",
                "\n",
                "You need to first create a table and schema for data to be loaded into."
            ],
            "metadata": {
                "azdata_cell_guid": "f348fdae-e69a-4271-907d-e6b4e0619151"
            }
        },
        {
            "cell_type": "code",
            "source": [
                "CREATE TABLE [dbo].[Routes]\r\n",
                "(\r\n",
                "\t[Id] [int] NOT NULL,\r\n",
                "\t[AgencyId] [varchar](100) NULL,\r\n",
                "\t[ShortName] [varchar](100) NULL,\r\n",
                "\t[Description] [varchar](1000) NULL,\r\n",
                "\t[Type] [int] NULL\r\n",
                ")\r\n",
                "GO\r\n",
                "ALTER TABLE [dbo].[Routes] ADD PRIMARY KEY CLUSTERED \r\n",
                "(\r\n",
                "\t[Id] ASC\r\n",
                ")\r\n",
                "GO"
            ],
            "metadata": {
                "azdata_cell_guid": "c14329fd-fee4-4014-a77d-ed5b59785685"
            },
            "outputs": [
                {
                    "output_type": "display_data",
                    "data": {
                        "text/html": "Commands completed successfully."
                    },
                    "metadata": {}
                },
                {
                    "output_type": "display_data",
                    "data": {
                        "text/html": "Commands completed successfully."
                    },
                    "metadata": {}
                },
                {
                    "output_type": "display_data",
                    "data": {
                        "text/html": "Total execution time: 00:00:00.429"
                    },
                    "metadata": {}
                }
            ],
            "execution_count": 1
        },
        {
            "cell_type": "markdown",
            "source": [
                "The next step is to create a master key."
            ],
            "metadata": {
                "azdata_cell_guid": "962dcc3f-be18-4cc3-bdfc-d670c962a0dc"
            }
        },
        {
            "cell_type": "code",
            "source": [
                "CREATE MASTER KEY ENCRYPTION BY PASSWORD = 'mySuperStr0n9P@assw0rd!'"
            ],
            "metadata": {
                "azdata_cell_guid": "5a690353-b1f9-43b2-85e1-2a7467f7b3ad"
            },
            "outputs": [
                {
                    "output_type": "display_data",
                    "data": {
                        "text/html": "Commands completed successfully."
                    },
                    "metadata": {}
                },
                {
                    "output_type": "display_data",
                    "data": {
                        "text/html": "Total execution time: 00:00:00.168"
                    },
                    "metadata": {}
                }
            ],
            "execution_count": 2
        },
        {
            "cell_type": "markdown",
            "source": [
                "A master key is required to create a `DATABASE SCOPED CREDENTIAL` value because Blob storage is not configured to allow public (anonymous) access. The credential refers to the Blob storage account, and the data portion specifies the container for the store return data.\n",
                "\n",
                "We use a shared access signature as the identity that Azure SQL knows how to interpret. The secret is the SAS token that you can generate from the Blob storage account. In this example, the SAS token for a storage account that you don't have access to is provided so you can access only the store return data."
            ],
            "metadata": {
                "azdata_cell_guid": "3a30a8e0-5054-471c-84f3-6e28dc47c694"
            }
        },
        {
            "cell_type": "code",
            "source": [
                "DROP EXTERNAL DATA SOURCE RouteData\r\n",
                "DROP DATABASE SCOPED CREDENTIAL AzureBlobCredentials\r\n",
                "\r\n",
                "CREATE DATABASE SCOPED CREDENTIAL AzureBlobCredentials\r\n",
                "WITH IDENTITY = 'SHARED ACCESS SIGNATURE',\r\n",
                "SECRET = 'sp=r&st=2021-08-18T11:11:04Z&se=2024-06-30T19:11:04Z&spr=https&sv=2020-08-04&sr=c&sig=PytNI7Ypncp0XuDjsTM1pRjmbZQK3zxYbDumbllXtWg%3D' -- Omit any leading question mark\r\n",
                ""
            ],
            "metadata": {
                "azdata_cell_guid": "92c0d495-d239-4dd1-b095-05f8fa0a6cef"
            },
            "outputs": [
                {
                    "output_type": "display_data",
                    "data": {
                        "text/html": "Commands completed successfully."
                    },
                    "metadata": {}
                },
                {
                    "output_type": "display_data",
                    "data": {
                        "text/html": "Total execution time: 00:00:00.188"
                    },
                    "metadata": {}
                }
            ],
            "execution_count": 4
        },
        {
            "cell_type": "markdown",
            "source": [
                "Next, create an external data source to the container."
            ],
            "metadata": {
                "azdata_cell_guid": "bca17886-bcfa-4eaa-87b1-94e94e801ce7"
            }
        },
        {
            "cell_type": "code",
            "source": [
                "CREATE EXTERNAL DATA SOURCE RouteData\r\n",
                "WITH (\r\n",
                "\tTYPE = blob_storage,\r\n",
                "\tLOCATION = 'https://azuresqlworkshopsa01.blob.core.windows.net/bus',\r\n",
                "\tCREDENTIAL = AzureBlobCredentials\r\n",
                ")"
            ],
            "metadata": {
                "azdata_cell_guid": "aea81643-4d8a-44b2-a915-8d797f036be5"
            },
            "outputs": [
                {
                    "output_type": "display_data",
                    "data": {
                        "text/html": "Commands completed successfully."
                    },
                    "metadata": {}
                },
                {
                    "output_type": "display_data",
                    "data": {
                        "text/html": "Total execution time: 00:00:00.166"
                    },
                    "metadata": {}
                }
            ],
            "execution_count": 5
        },
        {
            "cell_type": "markdown",
            "source": [
                "Now you are ready to bring in the data."
            ],
            "metadata": {
                "azdata_cell_guid": "7658b21b-c9a0-4ffd-a2dc-7af3d0f87842"
            }
        },
        {
            "cell_type": "code",
            "source": [
                "DELETE FROM dbo.[Routes];\r\n",
                "INSERT INTO dbo.[Routes]\r\n",
                "\t([Id], [AgencyId], [ShortName], [Description], [Type])\r\n",
                "SELECT \r\n",
                "\t[Id], [AgencyId], [ShortName], [Description], [Type]\r\n",
                "FROM \r\n",
                "OPENROWSET\r\n",
                "\t( \r\n",
                "\t\tBULk 'routes.txt', \r\n",
                "\t\tDATA_SOURCE = 'RouteData', \r\n",
                "\t\tFORMATFILE = 'routes.fmt', \r\n",
                "\t\tFORMATFILE_DATA_SOURCE = 'RouteData', \r\n",
                "\t\tFIRSTROW=2,\r\n",
                "\t\tFORMAT='csv'\r\n",
                "\t) t;"
            ],
            "metadata": {
                "azdata_cell_guid": "3f642673-43ec-4215-91da-a3a37776fb2f",
                "tags": []
            },
            "outputs": [
                {
                    "output_type": "display_data",
                    "data": {
                        "text/html": "(0 rows affected)"
                    },
                    "metadata": {}
                },
                {
                    "output_type": "display_data",
                    "data": {
                        "text/html": "(132 rows affected)"
                    },
                    "metadata": {}
                },
                {
                    "output_type": "display_data",
                    "data": {
                        "text/html": "Total execution time: 00:00:02.543"
                    },
                    "metadata": {}
                }
            ],
            "execution_count": 5
        },
        {
            "cell_type": "markdown",
            "source": [
                "Finally, let's look at what's been inserted relative to the route we'll be tracking."
            ],
            "metadata": {
                "azdata_cell_guid": "622d6f84-6ece-4b52-a2a1-8666cec71128"
            }
        },
        {
            "cell_type": "code",
            "source": [
                "SELECT * FROM dbo.[Routes] WHERE [Description] LIKE '%Education Hill%'"
            ],
            "metadata": {
                "azdata_cell_guid": "48fa0ba2-64cb-4230-a9b2-e7264994d7d7"
            },
            "outputs": [
                {
                    "output_type": "display_data",
                    "data": {
                        "text/html": "(132 rows affected)"
                    },
                    "metadata": {}
                },
                {
                    "output_type": "display_data",
                    "data": {
                        "text/html": "Total execution time: 00:00:00.186"
                    },
                    "metadata": {}
                },
                {
                    "output_type": "execute_result",
                    "metadata": {},
                    "execution_count": 6,
                    "data": {
                        "application/vnd.dataresource+json": {
                            "schema": {
                                "fields": [
                                    {
                                        "name": "Id"
                                    },
                                    {
                                        "name": "AgencyId"
                                    },
                                    {
                                        "name": "ShortName"
                                    },
                                    {
                                        "name": "Description"
                                    },
                                    {
                                        "name": "Type"
                                    }
                                ]
                            },
                            "data": [
                                {
                                    "0": "100001",
                                    "1": "1",
                                    "2": "1",
                                    "3": "Kinnear - Downtown Seattle",
                                    "4": "3"
                                },
                                {
                                    "0": "100002",
                                    "1": "1",
                                    "2": "10",
                                    "3": "Capitol Hill - Downtown Seattle",
                                    "4": "3"
                                },
                                {
                                    "0": "100003",
                                    "1": "1",
                                    "2": "101",
                                    "3": "Renton Transit Center - Downtown Seattle",
                                    "4": "3"
                                },
                                {
                                    "0": "100004",
                                    "1": "1",
                                    "2": "105",
                                    "3": "Renton Highlands - Renton Transit Center",
                                    "4": "3"
                                },
                                {
                                    "0": "100005",
                                    "1": "1",
                                    "2": "106",
                                    "3": "Renton Transit Center - Skyway - Downtown Seattle",
                                    "4": "3"
                                },
                                {
                                    "0": "100006",
                                    "1": "1",
                                    "2": "107",
                                    "3": "Renton Transit Center - Rainier Beach",
                                    "4": "3"
                                },
                                {
                                    "0": "100009",
                                    "1": "1",
                                    "2": "11",
                                    "3": "Madison Park - Capitol Hill - Downtown Seattle",
                                    "4": "3"
                                },
                                {
                                    "0": "100011",
                                    "1": "1",
                                    "2": "111",
                                    "3": "Lake Kathleen - Downtown Seattle",
                                    "4": "3"
                                },
                                {
                                    "0": "100016",
                                    "1": "1",
                                    "2": "118",
                                    "3": "Tahlequah - Vashon - Downtown Seattle",
                                    "4": "3"
                                },
                                {
                                    "0": "100017",
                                    "1": "1",
                                    "2": "119",
                                    "3": "Dockton - Vashon - Downtown Seattle",
                                    "4": "3"
                                },
                                {
                                    "0": "100018",
                                    "1": "1",
                                    "2": "12",
                                    "3": "Interlaken Park - First Hill - Downtown Seattle",
                                    "4": "3"
                                },
                                {
                                    "0": "100019",
                                    "1": "1",
                                    "2": "120",
                                    "3": "Burien TC - Westwood Village - Downtown Seattle",
                                    "4": "3"
                                },
                                {
                                    "0": "100023",
                                    "1": "1",
                                    "2": "124",
                                    "3": "Tukwila International Blvd Sta - Downtown Seattle",
                                    "4": "3"
                                },
                                {
                                    "0": "100024",
                                    "1": "1",
                                    "2": "125",
                                    "3": "Westwood Vill - S Seattle Coll - Downtown Seattle",
                                    "4": "3"
                                },
                                {
                                    "0": "100026",
                                    "1": "1",
                                    "2": "128",
                                    "3": "Southcenter - Alaska Junction - Admiral District",
                                    "4": "3"
                                },
                                {
                                    "0": "100028",
                                    "1": "1",
                                    "2": "13",
                                    "3": "Seattle Pacific - Downtown Seattle",
                                    "4": "3"
                                },
                                {
                                    "0": "100030",
                                    "1": "1",
                                    "2": "131",
                                    "3": "Burien TC - Georgetown - Downtown Seattle",
                                    "4": "3"
                                },
                                {
                                    "0": "100031",
                                    "1": "1",
                                    "2": "132",
                                    "3": "Burien TC - South Park - Downtown Seattle",
                                    "4": "3"
                                },
                                {
                                    "0": "100039",
                                    "1": "1",
                                    "2": "14",
                                    "3": "Mt Baker - Downtown Seattle",
                                    "4": "3"
                                },
                                {
                                    "0": "100042",
                                    "1": "1",
                                    "2": "148",
                                    "3": "Fairwood - Renton Transit Center",
                                    "4": "3"
                                },
                                {
                                    "0": "100045",
                                    "1": "1",
                                    "2": "150",
                                    "3": "Kent Station - Southcenter - Downtown Seattle",
                                    "4": "3"
                                },
                                {
                                    "0": "100048",
                                    "1": "1",
                                    "2": "153",
                                    "3": "Kent Sounder Station - Renton Transit Center",
                                    "4": "3"
                                },
                                {
                                    "0": "100060",
                                    "1": "1",
                                    "2": "168",
                                    "3": "Maple Valley - Kent Sounder Station",
                                    "4": "3"
                                },
                                {
                                    "0": "100072",
                                    "1": "1",
                                    "2": "181",
                                    "3": "Twin Lakes P&R - Auburn Station - Green River Coll",
                                    "4": "3"
                                },
                                {
                                    "0": "100073",
                                    "1": "1",
                                    "2": "182",
                                    "3": "Northeast Tacoma - Federal Way TC",
                                    "4": "3"
                                },
                                {
                                    "0": "100074",
                                    "1": "1",
                                    "2": "183",
                                    "3": "Federal Way TC - Star Lake - Kent Station",
                                    "4": "3"
                                },
                                {
                                    "0": "100078",
                                    "1": "1",
                                    "2": "187",
                                    "3": "Federal Way - Twin Lakes",
                                    "4": "3"
                                },
                                {
                                    "0": "100089",
                                    "1": "1",
                                    "2": "2",
                                    "3": "West Queen Anne - Downtown Seattle - Madrona Park",
                                    "4": "3"
                                },
                                {
                                    "0": "100099",
                                    "1": "1",
                                    "2": "208",
                                    "3": "North Bend - Issaquah Transit Center",
                                    "4": "3"
                                },
                                {
                                    "0": "100101",
                                    "1": "1",
                                    "2": "21",
                                    "3": "Arbor Heights-Westwood Village-Downtown Seattle",
                                    "4": "3"
                                },
                                {
                                    "0": "100104",
                                    "1": "1",
                                    "2": "212",
                                    "3": "Eastgate P&R - Downtown Seattle",
                                    "4": "3"
                                },
                                {
                                    "0": "100113",
                                    "1": "1",
                                    "2": "221",
                                    "3": "Education Hill - Crossroads - Eastgate",
                                    "4": "3"
                                },
                                {
                                    "0": "100132",
                                    "1": "1",
                                    "2": "24",
                                    "3": "West Magnolia - Downtown Seattle",
                                    "4": "3"
                                },
                                {
                                    "0": "100133",
                                    "1": "1",
                                    "2": "240",
                                    "3": "Bellevue Transit Center - Renton Transit Center",
                                    "4": "3"
                                },
                                {
                                    "0": "100136",
                                    "1": "1",
                                    "2": "245",
                                    "3": "Kirkland Transit Center - Crossroads - Factoria",
                                    "4": "3"
                                },
                                {
                                    "0": "100146",
                                    "1": "1",
                                    "2": "255",
                                    "3": "Totem Lake TC-Kirkand TC-UW Link Sta-Univ Dist",
                                    "4": "3"
                                },
                                {
                                    "0": "100148",
                                    "1": "1",
                                    "2": "257",
                                    "3": "Brickyard P&R - Downtown Seattle",
                                    "4": "3"
                                },
                                {
                                    "0": "100151",
                                    "1": "1",
                                    "2": "26",
                                    "3": "Northgate TC - East Green Lake - Downtown Seattle",
                                    "4": "3"
                                },
                                {
                                    "0": "100160",
                                    "1": "1",
                                    "2": "269",
                                    "3": "Issaquah Transit Center - Overlake P&R",
                                    "4": "3"
                                },
                                {
                                    "0": "100161",
                                    "1": "1",
                                    "2": "27",
                                    "3": "Colman Park - Downtown Seattle",
                                    "4": "3"
                                },
                                {
                                    "0": "100162",
                                    "1": "1",
                                    "2": "271",
                                    "3": "Issaquah - University District",
                                    "4": "3"
                                },
                                {
                                    "0": "100169",
                                    "1": "1",
                                    "2": "28",
                                    "3": "Whittier Heights - Fremont - Downtown Seattle",
                                    "4": "3"
                                },
                                {
                                    "0": "100173",
                                    "1": "1",
                                    "2": "3",
                                    "3": "North Queen Anne - Downtown Seattle - Madrona",
                                    "4": "3"
                                },
                                {
                                    "0": "100175",
                                    "1": "1",
                                    "2": "301",
                                    "3": "Aurora Vill TC - Richmond Beach - Downtown Seattle",
                                    "4": "3"
                                },
                                {
                                    "0": "100177",
                                    "1": "1",
                                    "2": "303",
                                    "3": "Shoreline - Northgate TC - First Hill",
                                    "4": "3"
                                },
                                {
                                    "0": "100178",
                                    "1": "1",
                                    "2": "304",
                                    "3": "Richmond Beach - Downtown Seattle",
                                    "4": "3"
                                },
                                {
                                    "0": "100183",
                                    "1": "1",
                                    "2": "309",
                                    "3": "Kenmore P&R - South Lake Union - First Hill",
                                    "4": "3"
                                },
                                {
                                    "0": "100184",
                                    "1": "1",
                                    "2": "31",
                                    "3": "Univ District - Fremont - Central Magnolia",
                                    "4": "3"
                                },
                                {
                                    "0": "100186",
                                    "1": "1",
                                    "2": "311",
                                    "3": "Woodinville - Downtown Seattle",
                                    "4": "3"
                                },
                                {
                                    "0": "100193",
                                    "1": "1",
                                    "2": "32",
                                    "3": "Univ District-Fremont-Interbay-Seattle Center West",
                                    "4": "3"
                                },
                                {
                                    "0": "100194",
                                    "1": "1",
                                    "2": "33",
                                    "3": "Discovery Park - Downtown Seattle",
                                    "4": "3"
                                },
                                {
                                    "0": "100195",
                                    "1": "1",
                                    "2": "330",
                                    "3": "Shoreline Community College - Lake City",
                                    "4": "3"
                                },
                                {
                                    "0": "100196",
                                    "1": "1",
                                    "2": "331",
                                    "3": "Shoreline Comm Coll-Aurora Village TC-Kenmore P&R",
                                    "4": "3"
                                },
                                {
                                    "0": "100202",
                                    "1": "1",
                                    "2": "345",
                                    "3": "Shoreline Community College - Northgate TC",
                                    "4": "3"
                                },
                                {
                                    "0": "100203",
                                    "1": "1",
                                    "2": "346",
                                    "3": "Aurora Village TC - Northgate TC",
                                    "4": "3"
                                },
                                {
                                    "0": "100204",
                                    "1": "1",
                                    "2": "347",
                                    "3": "Mountlake Terrace - Northgate TC",
                                    "4": "3"
                                },
                                {
                                    "0": "100205",
                                    "1": "1",
                                    "2": "348",
                                    "3": "Richmond Beach - Shoreline - Northgate TC",
                                    "4": "3"
                                },
                                {
                                    "0": "100210",
                                    "1": "1",
                                    "2": "36",
                                    "3": "Othello Station - Beacon Hill - Downtown Seattle",
                                    "4": "3"
                                },
                                {
                                    "0": "100214",
                                    "1": "1",
                                    "2": "372",
                                    "3": "UW/Cascadia College - University District",
                                    "4": "3"
                                },
                                {
                                    "0": "100215",
                                    "1": "1",
                                    "2": "373",
                                    "3": "Aurora Village TC - University District",
                                    "4": "3"
                                },
                                {
                                    "0": "100219",
                                    "1": "1",
                                    "2": "4",
                                    "3": "East Queen Anne - Downtown Seattle - Judkins Park",
                                    "4": "3"
                                },
                                {
                                    "0": "100221",
                                    "1": "1",
                                    "2": "41",
                                    "3": "Lake City - Northgate TC - Downtown Seattle",
                                    "4": "3"
                                },
                                {
                                    "0": "100223",
                                    "1": "1",
                                    "2": "43",
                                    "3": "Univ Dist-Montlake-Capitol Hill-Downtown Seattle",
                                    "4": "3"
                                },
                                {
                                    "0": "100224",
                                    "1": "1",
                                    "2": "44",
                                    "3": "Ballard - Montlake",
                                    "4": "3"
                                },
                                {
                                    "0": "100225",
                                    "1": "1",
                                    "2": "45",
                                    "3": "Loyal Heights - University District",
                                    "4": "3"
                                },
                                {
                                    "0": "100228",
                                    "1": "1",
                                    "2": "48",
                                    "3": "Mt Baker - University District",
                                    "4": "3"
                                },
                                {
                                    "0": "100229",
                                    "1": "1",
                                    "2": "5",
                                    "3": "Shoreline CC - Greenwood - Downtown Seattle",
                                    "4": "3"
                                },
                                {
                                    "0": "100230",
                                    "1": "1",
                                    "2": "50",
                                    "3": "West Seattle - SODO - Beacon Hill - Columbia City",
                                    "4": "3"
                                },
                                {
                                    "0": "100232",
                                    "1": "40",
                                    "2": "522",
                                    "3": "Woodinville - Seattle",
                                    "4": "3"
                                },
                                {
                                    "0": "100236",
                                    "1": "40",
                                    "2": "545",
                                    "3": "Redmond - Seattle",
                                    "4": "3"
                                },
                                {
                                    "0": "100238",
                                    "1": "1",
                                    "2": "55",
                                    "3": "Admiral District-Alaska Junction-Downtown Seattle",
                                    "4": "3"
                                },
                                {
                                    "0": "100239",
                                    "1": "40",
                                    "2": "550",
                                    "3": "Bellevue - Seattle",
                                    "4": "3"
                                },
                                {
                                    "0": "100240",
                                    "1": "40",
                                    "2": "554",
                                    "3": "Issaquah - Seattle",
                                    "4": "3"
                                },
                                {
                                    "0": "100242",
                                    "1": "1",
                                    "2": "56",
                                    "3": "Alki - Admiral District - Downtown Seattle",
                                    "4": "3"
                                },
                                {
                                    "0": "100246",
                                    "1": "1",
                                    "2": "57",
                                    "3": "Alaska Junction - Genesee Hill - Admiral District",
                                    "4": "3"
                                },
                                {
                                    "0": "100249",
                                    "1": "1",
                                    "2": "60",
                                    "3": "Westwood Village - Georgetown - Broadway",
                                    "4": "3"
                                },
                                {
                                    "0": "100252",
                                    "1": "1",
                                    "2": "62",
                                    "3": "Sand Point - Green Lake - Downtown Seattle",
                                    "4": "3"
                                },
                                {
                                    "0": "100253",
                                    "1": "1",
                                    "2": "64",
                                    "3": "Lake City - Univ Dist - S Lake Union - First Hill",
                                    "4": "3"
                                },
                                {
                                    "0": "100254",
                                    "1": "1",
                                    "2": "65",
                                    "3": "Lake City  - University District",
                                    "4": "3"
                                },
                                {
                                    "0": "100259",
                                    "1": "1",
                                    "2": "67",
                                    "3": "Northgate - Roosevelt - University District",
                                    "4": "3"
                                },
                                {
                                    "0": "100263",
                                    "1": "1",
                                    "2": "7",
                                    "3": "Prentice St - Rainier Beach - Downtown Seattle",
                                    "4": "3"
                                },
                                {
                                    "0": "100264",
                                    "1": "1",
                                    "2": "70",
                                    "3": "University District - Eastlake - Downtown Seattle",
                                    "4": "3"
                                },
                                {
                                    "0": "100267",
                                    "1": "1",
                                    "2": "73",
                                    "3": "Jackson Park - Univ District - Downtown Seattle",
                                    "4": "3"
                                },
                                {
                                    "0": "100268",
                                    "1": "1",
                                    "2": "74",
                                    "3": "Sand Point - Downtown Seattle",
                                    "4": "3"
                                },
                                {
                                    "0": "100269",
                                    "1": "1",
                                    "2": "75",
                                    "3": "Northgate - Lake City - Sand Point - Univ District",
                                    "4": "3"
                                },
                                {
                                    "0": "100272",
                                    "1": "1",
                                    "2": "773",
                                    "3": "Seacrest Park - West Seattle Junction",
                                    "4": "3"
                                },
                                {
                                    "0": "100275",
                                    "1": "1",
                                    "2": "8",
                                    "3": "Seattle Center - Capitol Hill - Rainier Beach",
                                    "4": "3"
                                },
                                {
                                    "0": "100290",
                                    "1": "1",
                                    "2": "901",
                                    "3": "Mirror Lake - Federal Way TC",
                                    "4": "3"
                                },
                                {
                                    "0": "100292",
                                    "1": "1",
                                    "2": "903",
                                    "3": "Twin Lakes - Federal Way TC",
                                    "4": "3"
                                },
                                {
                                    "0": "100297",
                                    "1": "1",
                                    "2": "914",
                                    "3": "Downtown Kent - Kent East Hill",
                                    "4": "3"
                                },
                                {
                                    "0": "100300",
                                    "1": "1",
                                    "2": "917",
                                    "3": "Pacific - Algona - Auburn Station",
                                    "4": "3"
                                },
                                {
                                    "0": "100336",
                                    "1": "1",
                                    "2": "973",
                                    "3": "Water Taxi: West Seattle - Downtown Seattle",
                                    "4": "4"
                                },
                                {
                                    "0": "100337",
                                    "1": "1",
                                    "2": "975",
                                    "3": "Water Taxi: Vashon Island - Downtown Seattle",
                                    "4": "4"
                                },
                                {
                                    "0": "100340",
                                    "1": "23",
                                    "2": "South Lake Union Streetcar",
                                    "3": "Streetcar: Fairview/Aloha - Westlake/McGraw",
                                    "4": "0"
                                },
                                {
                                    "0": "100447",
                                    "1": "1",
                                    "2": "49",
                                    "3": "Univ District - Broadway - Downtown Seattle",
                                    "4": "3"
                                },
                                {
                                    "0": "100459",
                                    "1": "1",
                                    "2": "218",
                                    "3": "Issaquah Highlands - Downtown Seattle",
                                    "4": "3"
                                },
                                {
                                    "0": "100479",
                                    "1": "40",
                                    "2": "Link light rail",
                                    "3": "Univ. of Washington - SeaTac/Airport - Angle Lake",
                                    "4": "0"
                                },
                                {
                                    "0": "100481",
                                    "1": "1",
                                    "2": "775",
                                    "3": "Seacrest Park - Admiral District - Alki",
                                    "4": "3"
                                },
                                {
                                    "0": "100487",
                                    "1": "1",
                                    "2": "102",
                                    "3": "Fairwood - Downtown Seattle",
                                    "4": "3"
                                },
                                {
                                    "0": "100489",
                                    "1": "1",
                                    "2": "156",
                                    "3": "Southcenter - SeaTac - Des Moines - Highline Coll",
                                    "4": "3"
                                },
                                {
                                    "0": "100495",
                                    "1": "1",
                                    "2": "193",
                                    "3": "Federal Way S 320th P&R-Federal Way TC-First Hill",
                                    "4": "3"
                                },
                                {
                                    "0": "100496",
                                    "1": "1",
                                    "2": "930",
                                    "3": "Kingsgate P&R - Redmond Town Center",
                                    "4": "3"
                                },
                                {
                                    "0": "100511",
                                    "1": "40",
                                    "2": "542",
                                    "3": "Redmond - University District",
                                    "4": "3"
                                },
                                {
                                    "0": "100512",
                                    "1": "1",
                                    "2": "A Line",
                                    "3": "Federal Way TC - SeaTac - Tukwila Intl Blvd Sta",
                                    "4": "3"
                                },
                                {
                                    "0": "102548",
                                    "1": "1",
                                    "2": "B Line",
                                    "3": "Redmond TC - Overlake TC - Bellevue TC",
                                    "4": "3"
                                },
                                {
                                    "0": "102552",
                                    "1": "1",
                                    "2": "226",
                                    "3": "Eastgate P&R-Crossroads-Overlake-Bellevue TC",
                                    "4": "3"
                                },
                                {
                                    "0": "102554",
                                    "1": "1",
                                    "2": "241",
                                    "3": "Eastgate P&R - Bellevue Transit Center",
                                    "4": "3"
                                },
                                {
                                    "0": "102557",
                                    "1": "1",
                                    "2": "915",
                                    "3": "Enumclaw - Auburn Station",
                                    "4": "3"
                                },
                                {
                                    "0": "102561",
                                    "1": "1",
                                    "2": "907",
                                    "3": "Enumclaw - Renton TC",
                                    "4": "3"
                                },
                                {
                                    "0": "102574",
                                    "1": "1",
                                    "2": "40",
                                    "3": "Northgte-Ballard-Fremont-Westlake-Downtown Seattle",
                                    "4": "3"
                                },
                                {
                                    "0": "102576",
                                    "1": "1",
                                    "2": "C Line",
                                    "3": "Valley St/Fairview Av N - SW Barton St/26 Av SW",
                                    "4": "3"
                                },
                                {
                                    "0": "102581",
                                    "1": "1",
                                    "2": "D Line",
                                    "3": "Blue Ridge/Crown Hill - Ballard - Downtown Seattle",
                                    "4": "3"
                                },
                                {
                                    "0": "102593",
                                    "1": "1",
                                    "2": "906",
                                    "3": "Fairwood - Southcenter - Tukwila Sounder Station",
                                    "4": "3"
                                },
                                {
                                    "0": "102615",
                                    "1": "1",
                                    "2": "E Line",
                                    "3": "Aurora Village Transit Center - Downtown Seattle",
                                    "4": "3"
                                },
                                {
                                    "0": "102619",
                                    "1": "1",
                                    "2": "F Line",
                                    "3": "Burien TC - Tukwila Intl Blvd Sta - Renton Landing",
                                    "4": "3"
                                },
                                {
                                    "0": "102636",
                                    "1": "1",
                                    "2": "631",
                                    "3": "Gregory Heights - Burien Transit Center",
                                    "4": "3"
                                },
                                {
                                    "0": "102638",
                                    "1": "23",
                                    "2": "First Hill Streetcar",
                                    "3": "Streetcar: Pioneer Square - Capitol Hill",
                                    "4": "0"
                                },
                                {
                                    "0": "102647",
                                    "1": "1",
                                    "2": "635",
                                    "3": "Des Moines Marina District - Angle Lake Station",
                                    "4": "3"
                                },
                                {
                                    "0": "102652",
                                    "1": "1",
                                    "2": "204",
                                    "3": "S Mercer Island-Island Crest Way-Mercer Island P&R",
                                    "4": "3"
                                },
                                {
                                    "0": "102653",
                                    "1": "1",
                                    "2": "224",
                                    "3": "Duvall - Redmond Transit Center",
                                    "4": "3"
                                },
                                {
                                    "0": "102698",
                                    "1": "1",
                                    "2": "Duvall-Monroe Shuttle",
                                    "3": "Duvall - Monroe Shuttle",
                                    "4": "3"
                                },
                                {
                                    "0": "102699",
                                    "1": "1",
                                    "2": "629",
                                    "3": "No. Bend-Snoqualmie-Fall City-Carnation-Duvall",
                                    "4": "3"
                                },
                                {
                                    "0": "102701",
                                    "1": "1",
                                    "2": "225",
                                    "3": "Kenmore - Totem Lake TC - Overlake TC",
                                    "4": "3"
                                },
                                {
                                    "0": "102702",
                                    "1": "1",
                                    "2": "239",
                                    "3": "UW/Cascadia Coll - Totem Lake TC - Kirkland TC",
                                    "4": "3"
                                },
                                {
                                    "0": "102703",
                                    "1": "1",
                                    "2": "231",
                                    "3": "Woodinville - Brickyard - Juanita - Kirkland TC",
                                    "4": "3"
                                },
                                {
                                    "0": "102704",
                                    "1": "1",
                                    "2": "250",
                                    "3": "Avondale -  Redmond TC - Kirkland TC - Bellevue TC",
                                    "4": "3"
                                },
                                {
                                    "0": "102705",
                                    "1": "1",
                                    "2": "230",
                                    "3": "North Creek - Bothell - Juanita - Kirkland TC",
                                    "4": "3"
                                },
                                {
                                    "0": "102715",
                                    "1": "1",
                                    "2": "162",
                                    "3": "Lake Meridean P&R - Downtown Seattle",
                                    "4": "3"
                                },
                                {
                                    "0": "102717",
                                    "1": "1",
                                    "2": "165",
                                    "3": "Green River College - Kent - Des Moines - Burien",
                                    "4": "3"
                                },
                                {
                                    "0": "102718",
                                    "1": "1",
                                    "2": "184",
                                    "3": "Auburn Station - White River Junction",
                                    "4": "3"
                                },
                                {
                                    "0": "102719",
                                    "1": "1",
                                    "2": "161",
                                    "3": "Burien - Kent Station",
                                    "4": "3"
                                },
                                {
                                    "0": "102720",
                                    "1": "1",
                                    "2": "160",
                                    "3": "Renton TC - Kent Station - Auburn Station",
                                    "4": "3"
                                }
                            ]
                        },
                        "text/html": [
                            "<table>",
                            "<tr><th>Id</th><th>AgencyId</th><th>ShortName</th><th>Description</th><th>Type</th></tr>",
                            "<tr><td>100001</td><td>1</td><td>1</td><td>Kinnear - Downtown Seattle</td><td>3</td></tr>",
                            "<tr><td>100002</td><td>1</td><td>10</td><td>Capitol Hill - Downtown Seattle</td><td>3</td></tr>",
                            "<tr><td>100003</td><td>1</td><td>101</td><td>Renton Transit Center - Downtown Seattle</td><td>3</td></tr>",
                            "<tr><td>100004</td><td>1</td><td>105</td><td>Renton Highlands - Renton Transit Center</td><td>3</td></tr>",
                            "<tr><td>100005</td><td>1</td><td>106</td><td>Renton Transit Center - Skyway - Downtown Seattle</td><td>3</td></tr>",
                            "<tr><td>100006</td><td>1</td><td>107</td><td>Renton Transit Center - Rainier Beach</td><td>3</td></tr>",
                            "<tr><td>100009</td><td>1</td><td>11</td><td>Madison Park - Capitol Hill - Downtown Seattle</td><td>3</td></tr>",
                            "<tr><td>100011</td><td>1</td><td>111</td><td>Lake Kathleen - Downtown Seattle</td><td>3</td></tr>",
                            "<tr><td>100016</td><td>1</td><td>118</td><td>Tahlequah - Vashon - Downtown Seattle</td><td>3</td></tr>",
                            "<tr><td>100017</td><td>1</td><td>119</td><td>Dockton - Vashon - Downtown Seattle</td><td>3</td></tr>",
                            "<tr><td>100018</td><td>1</td><td>12</td><td>Interlaken Park - First Hill - Downtown Seattle</td><td>3</td></tr>",
                            "<tr><td>100019</td><td>1</td><td>120</td><td>Burien TC - Westwood Village - Downtown Seattle</td><td>3</td></tr>",
                            "<tr><td>100023</td><td>1</td><td>124</td><td>Tukwila International Blvd Sta - Downtown Seattle</td><td>3</td></tr>",
                            "<tr><td>100024</td><td>1</td><td>125</td><td>Westwood Vill - S Seattle Coll - Downtown Seattle</td><td>3</td></tr>",
                            "<tr><td>100026</td><td>1</td><td>128</td><td>Southcenter - Alaska Junction - Admiral District</td><td>3</td></tr>",
                            "<tr><td>100028</td><td>1</td><td>13</td><td>Seattle Pacific - Downtown Seattle</td><td>3</td></tr>",
                            "<tr><td>100030</td><td>1</td><td>131</td><td>Burien TC - Georgetown - Downtown Seattle</td><td>3</td></tr>",
                            "<tr><td>100031</td><td>1</td><td>132</td><td>Burien TC - South Park - Downtown Seattle</td><td>3</td></tr>",
                            "<tr><td>100039</td><td>1</td><td>14</td><td>Mt Baker - Downtown Seattle</td><td>3</td></tr>",
                            "<tr><td>100042</td><td>1</td><td>148</td><td>Fairwood - Renton Transit Center</td><td>3</td></tr>",
                            "<tr><td>100045</td><td>1</td><td>150</td><td>Kent Station - Southcenter - Downtown Seattle</td><td>3</td></tr>",
                            "<tr><td>100048</td><td>1</td><td>153</td><td>Kent Sounder Station - Renton Transit Center</td><td>3</td></tr>",
                            "<tr><td>100060</td><td>1</td><td>168</td><td>Maple Valley - Kent Sounder Station</td><td>3</td></tr>",
                            "<tr><td>100072</td><td>1</td><td>181</td><td>Twin Lakes P&amp;R - Auburn Station - Green River Coll</td><td>3</td></tr>",
                            "<tr><td>100073</td><td>1</td><td>182</td><td>Northeast Tacoma - Federal Way TC</td><td>3</td></tr>",
                            "<tr><td>100074</td><td>1</td><td>183</td><td>Federal Way TC - Star Lake - Kent Station</td><td>3</td></tr>",
                            "<tr><td>100078</td><td>1</td><td>187</td><td>Federal Way - Twin Lakes</td><td>3</td></tr>",
                            "<tr><td>100089</td><td>1</td><td>2</td><td>West Queen Anne - Downtown Seattle - Madrona Park</td><td>3</td></tr>",
                            "<tr><td>100099</td><td>1</td><td>208</td><td>North Bend - Issaquah Transit Center</td><td>3</td></tr>",
                            "<tr><td>100101</td><td>1</td><td>21</td><td>Arbor Heights-Westwood Village-Downtown Seattle</td><td>3</td></tr>",
                            "<tr><td>100104</td><td>1</td><td>212</td><td>Eastgate P&amp;R - Downtown Seattle</td><td>3</td></tr>",
                            "<tr><td>100113</td><td>1</td><td>221</td><td>Education Hill - Crossroads - Eastgate</td><td>3</td></tr>",
                            "<tr><td>100132</td><td>1</td><td>24</td><td>West Magnolia - Downtown Seattle</td><td>3</td></tr>",
                            "<tr><td>100133</td><td>1</td><td>240</td><td>Bellevue Transit Center - Renton Transit Center</td><td>3</td></tr>",
                            "<tr><td>100136</td><td>1</td><td>245</td><td>Kirkland Transit Center - Crossroads - Factoria</td><td>3</td></tr>",
                            "<tr><td>100146</td><td>1</td><td>255</td><td>Totem Lake TC-Kirkand TC-UW Link Sta-Univ Dist</td><td>3</td></tr>",
                            "<tr><td>100148</td><td>1</td><td>257</td><td>Brickyard P&amp;R - Downtown Seattle</td><td>3</td></tr>",
                            "<tr><td>100151</td><td>1</td><td>26</td><td>Northgate TC - East Green Lake - Downtown Seattle</td><td>3</td></tr>",
                            "<tr><td>100160</td><td>1</td><td>269</td><td>Issaquah Transit Center - Overlake P&amp;R</td><td>3</td></tr>",
                            "<tr><td>100161</td><td>1</td><td>27</td><td>Colman Park - Downtown Seattle</td><td>3</td></tr>",
                            "<tr><td>100162</td><td>1</td><td>271</td><td>Issaquah - University District</td><td>3</td></tr>",
                            "<tr><td>100169</td><td>1</td><td>28</td><td>Whittier Heights - Fremont - Downtown Seattle</td><td>3</td></tr>",
                            "<tr><td>100173</td><td>1</td><td>3</td><td>North Queen Anne - Downtown Seattle - Madrona</td><td>3</td></tr>",
                            "<tr><td>100175</td><td>1</td><td>301</td><td>Aurora Vill TC - Richmond Beach - Downtown Seattle</td><td>3</td></tr>",
                            "<tr><td>100177</td><td>1</td><td>303</td><td>Shoreline - Northgate TC - First Hill</td><td>3</td></tr>",
                            "<tr><td>100178</td><td>1</td><td>304</td><td>Richmond Beach - Downtown Seattle</td><td>3</td></tr>",
                            "<tr><td>100183</td><td>1</td><td>309</td><td>Kenmore P&amp;R - South Lake Union - First Hill</td><td>3</td></tr>",
                            "<tr><td>100184</td><td>1</td><td>31</td><td>Univ District - Fremont - Central Magnolia</td><td>3</td></tr>",
                            "<tr><td>100186</td><td>1</td><td>311</td><td>Woodinville - Downtown Seattle</td><td>3</td></tr>",
                            "<tr><td>100193</td><td>1</td><td>32</td><td>Univ District-Fremont-Interbay-Seattle Center West</td><td>3</td></tr>",
                            "<tr><td>100194</td><td>1</td><td>33</td><td>Discovery Park - Downtown Seattle</td><td>3</td></tr>",
                            "<tr><td>100195</td><td>1</td><td>330</td><td>Shoreline Community College - Lake City</td><td>3</td></tr>",
                            "<tr><td>100196</td><td>1</td><td>331</td><td>Shoreline Comm Coll-Aurora Village TC-Kenmore P&amp;R</td><td>3</td></tr>",
                            "<tr><td>100202</td><td>1</td><td>345</td><td>Shoreline Community College - Northgate TC</td><td>3</td></tr>",
                            "<tr><td>100203</td><td>1</td><td>346</td><td>Aurora Village TC - Northgate TC</td><td>3</td></tr>",
                            "<tr><td>100204</td><td>1</td><td>347</td><td>Mountlake Terrace - Northgate TC</td><td>3</td></tr>",
                            "<tr><td>100205</td><td>1</td><td>348</td><td>Richmond Beach - Shoreline - Northgate TC</td><td>3</td></tr>",
                            "<tr><td>100210</td><td>1</td><td>36</td><td>Othello Station - Beacon Hill - Downtown Seattle</td><td>3</td></tr>",
                            "<tr><td>100214</td><td>1</td><td>372</td><td>UW/Cascadia College - University District</td><td>3</td></tr>",
                            "<tr><td>100215</td><td>1</td><td>373</td><td>Aurora Village TC - University District</td><td>3</td></tr>",
                            "<tr><td>100219</td><td>1</td><td>4</td><td>East Queen Anne - Downtown Seattle - Judkins Park</td><td>3</td></tr>",
                            "<tr><td>100221</td><td>1</td><td>41</td><td>Lake City - Northgate TC - Downtown Seattle</td><td>3</td></tr>",
                            "<tr><td>100223</td><td>1</td><td>43</td><td>Univ Dist-Montlake-Capitol Hill-Downtown Seattle</td><td>3</td></tr>",
                            "<tr><td>100224</td><td>1</td><td>44</td><td>Ballard - Montlake</td><td>3</td></tr>",
                            "<tr><td>100225</td><td>1</td><td>45</td><td>Loyal Heights - University District</td><td>3</td></tr>",
                            "<tr><td>100228</td><td>1</td><td>48</td><td>Mt Baker - University District</td><td>3</td></tr>",
                            "<tr><td>100229</td><td>1</td><td>5</td><td>Shoreline CC - Greenwood - Downtown Seattle</td><td>3</td></tr>",
                            "<tr><td>100230</td><td>1</td><td>50</td><td>West Seattle - SODO - Beacon Hill - Columbia City</td><td>3</td></tr>",
                            "<tr><td>100232</td><td>40</td><td>522</td><td>Woodinville - Seattle</td><td>3</td></tr>",
                            "<tr><td>100236</td><td>40</td><td>545</td><td>Redmond - Seattle</td><td>3</td></tr>",
                            "<tr><td>100238</td><td>1</td><td>55</td><td>Admiral District-Alaska Junction-Downtown Seattle</td><td>3</td></tr>",
                            "<tr><td>100239</td><td>40</td><td>550</td><td>Bellevue - Seattle</td><td>3</td></tr>",
                            "<tr><td>100240</td><td>40</td><td>554</td><td>Issaquah - Seattle</td><td>3</td></tr>",
                            "<tr><td>100242</td><td>1</td><td>56</td><td>Alki - Admiral District - Downtown Seattle</td><td>3</td></tr>",
                            "<tr><td>100246</td><td>1</td><td>57</td><td>Alaska Junction - Genesee Hill - Admiral District</td><td>3</td></tr>",
                            "<tr><td>100249</td><td>1</td><td>60</td><td>Westwood Village - Georgetown - Broadway</td><td>3</td></tr>",
                            "<tr><td>100252</td><td>1</td><td>62</td><td>Sand Point - Green Lake - Downtown Seattle</td><td>3</td></tr>",
                            "<tr><td>100253</td><td>1</td><td>64</td><td>Lake City - Univ Dist - S Lake Union - First Hill</td><td>3</td></tr>",
                            "<tr><td>100254</td><td>1</td><td>65</td><td>Lake City  - University District</td><td>3</td></tr>",
                            "<tr><td>100259</td><td>1</td><td>67</td><td>Northgate - Roosevelt - University District</td><td>3</td></tr>",
                            "<tr><td>100263</td><td>1</td><td>7</td><td>Prentice St - Rainier Beach - Downtown Seattle</td><td>3</td></tr>",
                            "<tr><td>100264</td><td>1</td><td>70</td><td>University District - Eastlake - Downtown Seattle</td><td>3</td></tr>",
                            "<tr><td>100267</td><td>1</td><td>73</td><td>Jackson Park - Univ District - Downtown Seattle</td><td>3</td></tr>",
                            "<tr><td>100268</td><td>1</td><td>74</td><td>Sand Point - Downtown Seattle</td><td>3</td></tr>",
                            "<tr><td>100269</td><td>1</td><td>75</td><td>Northgate - Lake City - Sand Point - Univ District</td><td>3</td></tr>",
                            "<tr><td>100272</td><td>1</td><td>773</td><td>Seacrest Park - West Seattle Junction</td><td>3</td></tr>",
                            "<tr><td>100275</td><td>1</td><td>8</td><td>Seattle Center - Capitol Hill - Rainier Beach</td><td>3</td></tr>",
                            "<tr><td>100290</td><td>1</td><td>901</td><td>Mirror Lake - Federal Way TC</td><td>3</td></tr>",
                            "<tr><td>100292</td><td>1</td><td>903</td><td>Twin Lakes - Federal Way TC</td><td>3</td></tr>",
                            "<tr><td>100297</td><td>1</td><td>914</td><td>Downtown Kent - Kent East Hill</td><td>3</td></tr>",
                            "<tr><td>100300</td><td>1</td><td>917</td><td>Pacific - Algona - Auburn Station</td><td>3</td></tr>",
                            "<tr><td>100336</td><td>1</td><td>973</td><td>Water Taxi: West Seattle - Downtown Seattle</td><td>4</td></tr>",
                            "<tr><td>100337</td><td>1</td><td>975</td><td>Water Taxi: Vashon Island - Downtown Seattle</td><td>4</td></tr>",
                            "<tr><td>100340</td><td>23</td><td>South Lake Union Streetcar</td><td>Streetcar: Fairview/Aloha - Westlake/McGraw</td><td>0</td></tr>",
                            "<tr><td>100447</td><td>1</td><td>49</td><td>Univ District - Broadway - Downtown Seattle</td><td>3</td></tr>",
                            "<tr><td>100459</td><td>1</td><td>218</td><td>Issaquah Highlands - Downtown Seattle</td><td>3</td></tr>",
                            "<tr><td>100479</td><td>40</td><td>Link light rail</td><td>Univ. of Washington - SeaTac/Airport - Angle Lake</td><td>0</td></tr>",
                            "<tr><td>100481</td><td>1</td><td>775</td><td>Seacrest Park - Admiral District - Alki</td><td>3</td></tr>",
                            "<tr><td>100487</td><td>1</td><td>102</td><td>Fairwood - Downtown Seattle</td><td>3</td></tr>",
                            "<tr><td>100489</td><td>1</td><td>156</td><td>Southcenter - SeaTac - Des Moines - Highline Coll</td><td>3</td></tr>",
                            "<tr><td>100495</td><td>1</td><td>193</td><td>Federal Way S 320th P&amp;R-Federal Way TC-First Hill</td><td>3</td></tr>",
                            "<tr><td>100496</td><td>1</td><td>930</td><td>Kingsgate P&amp;R - Redmond Town Center</td><td>3</td></tr>",
                            "<tr><td>100511</td><td>40</td><td>542</td><td>Redmond - University District</td><td>3</td></tr>",
                            "<tr><td>100512</td><td>1</td><td>A Line</td><td>Federal Way TC - SeaTac - Tukwila Intl Blvd Sta</td><td>3</td></tr>",
                            "<tr><td>102548</td><td>1</td><td>B Line</td><td>Redmond TC - Overlake TC - Bellevue TC</td><td>3</td></tr>",
                            "<tr><td>102552</td><td>1</td><td>226</td><td>Eastgate P&amp;R-Crossroads-Overlake-Bellevue TC</td><td>3</td></tr>",
                            "<tr><td>102554</td><td>1</td><td>241</td><td>Eastgate P&amp;R - Bellevue Transit Center</td><td>3</td></tr>",
                            "<tr><td>102557</td><td>1</td><td>915</td><td>Enumclaw - Auburn Station</td><td>3</td></tr>",
                            "<tr><td>102561</td><td>1</td><td>907</td><td>Enumclaw - Renton TC</td><td>3</td></tr>",
                            "<tr><td>102574</td><td>1</td><td>40</td><td>Northgte-Ballard-Fremont-Westlake-Downtown Seattle</td><td>3</td></tr>",
                            "<tr><td>102576</td><td>1</td><td>C Line</td><td>Valley St/Fairview Av N - SW Barton St/26 Av SW</td><td>3</td></tr>",
                            "<tr><td>102581</td><td>1</td><td>D Line</td><td>Blue Ridge/Crown Hill - Ballard - Downtown Seattle</td><td>3</td></tr>",
                            "<tr><td>102593</td><td>1</td><td>906</td><td>Fairwood - Southcenter - Tukwila Sounder Station</td><td>3</td></tr>",
                            "<tr><td>102615</td><td>1</td><td>E Line</td><td>Aurora Village Transit Center - Downtown Seattle</td><td>3</td></tr>",
                            "<tr><td>102619</td><td>1</td><td>F Line</td><td>Burien TC - Tukwila Intl Blvd Sta - Renton Landing</td><td>3</td></tr>",
                            "<tr><td>102636</td><td>1</td><td>631</td><td>Gregory Heights - Burien Transit Center</td><td>3</td></tr>",
                            "<tr><td>102638</td><td>23</td><td>First Hill Streetcar</td><td>Streetcar: Pioneer Square - Capitol Hill</td><td>0</td></tr>",
                            "<tr><td>102647</td><td>1</td><td>635</td><td>Des Moines Marina District - Angle Lake Station</td><td>3</td></tr>",
                            "<tr><td>102652</td><td>1</td><td>204</td><td>S Mercer Island-Island Crest Way-Mercer Island P&amp;R</td><td>3</td></tr>",
                            "<tr><td>102653</td><td>1</td><td>224</td><td>Duvall - Redmond Transit Center</td><td>3</td></tr>",
                            "<tr><td>102698</td><td>1</td><td>Duvall-Monroe Shuttle</td><td>Duvall - Monroe Shuttle</td><td>3</td></tr>",
                            "<tr><td>102699</td><td>1</td><td>629</td><td>No. Bend-Snoqualmie-Fall City-Carnation-Duvall</td><td>3</td></tr>",
                            "<tr><td>102701</td><td>1</td><td>225</td><td>Kenmore - Totem Lake TC - Overlake TC</td><td>3</td></tr>",
                            "<tr><td>102702</td><td>1</td><td>239</td><td>UW/Cascadia Coll - Totem Lake TC - Kirkland TC</td><td>3</td></tr>",
                            "<tr><td>102703</td><td>1</td><td>231</td><td>Woodinville - Brickyard - Juanita - Kirkland TC</td><td>3</td></tr>",
                            "<tr><td>102704</td><td>1</td><td>250</td><td>Avondale -  Redmond TC - Kirkland TC - Bellevue TC</td><td>3</td></tr>",
                            "<tr><td>102705</td><td>1</td><td>230</td><td>North Creek - Bothell - Juanita - Kirkland TC</td><td>3</td></tr>",
                            "<tr><td>102715</td><td>1</td><td>162</td><td>Lake Meridean P&amp;R - Downtown Seattle</td><td>3</td></tr>",
                            "<tr><td>102717</td><td>1</td><td>165</td><td>Green River College - Kent - Des Moines - Burien</td><td>3</td></tr>",
                            "<tr><td>102718</td><td>1</td><td>184</td><td>Auburn Station - White River Junction</td><td>3</td></tr>",
                            "<tr><td>102719</td><td>1</td><td>161</td><td>Burien - Kent Station</td><td>3</td></tr>",
                            "<tr><td>102720</td><td>1</td><td>160</td><td>Renton TC - Kent Station - Auburn Station</td><td>3</td></tr>",
                            "</table>"
                        ]
                    }
                }
            ],
            "execution_count": 6
        },
        {
            "cell_type": "markdown",
            "source": [
                "## Part 2: Create necessary tables\n",
                "\n",
                "### Select a route to monitor\n",
                "\n",
                "Now that you've added the route information, you can select the route to be a \"Monitored Route\". This will come in handy if you later choose to monitor multiple routes. For now, you will just add the \"Education Hill - Crossroads - Eastgate\" route."
            ],
            "metadata": {
                "azdata_cell_guid": "102d8657-f5ab-4921-809d-d77fc9b41ad2"
            }
        },
        {
            "cell_type": "code",
            "source": [
                "-- Create MonitoredRoutes table\r\n",
                "CREATE TABLE [dbo].[MonitoredRoutes]\r\n",
                "(\r\n",
                "\t[RouteId] [int] NOT NULL\r\n",
                ")\r\n",
                "GO\r\n",
                "ALTER TABLE [dbo].[MonitoredRoutes] ADD PRIMARY KEY CLUSTERED \r\n",
                "(\r\n",
                "\t[RouteId] ASC\r\n",
                ")\r\n",
                "GO\r\n",
                "ALTER TABLE [dbo].[MonitoredRoutes] \r\n",
                "ADD CONSTRAINT [FK__MonitoredRoutes__Router] \r\n",
                "FOREIGN KEY ([RouteId]) REFERENCES [dbo].[Routes] ([Id])\r\n",
                "GO\r\n",
                "\r\n",
                "-- Monitor the \"Education Hill - Crossroads - Eastgate\" route\r\n",
                "INSERT INTO dbo.[MonitoredRoutes] (RouteId) VALUES (100113);"
            ],
            "metadata": {
                "azdata_cell_guid": "b8d596bf-0540-49fa-b206-ce52397c0459"
            },
            "outputs": [
                {
                    "output_type": "display_data",
                    "data": {
                        "text/html": "Commands completed successfully."
                    },
                    "metadata": {}
                },
                {
                    "output_type": "display_data",
                    "data": {
                        "text/html": "Commands completed successfully."
                    },
                    "metadata": {}
                },
                {
                    "output_type": "display_data",
                    "data": {
                        "text/html": "Commands completed successfully."
                    },
                    "metadata": {}
                },
                {
                    "output_type": "display_data",
                    "data": {
                        "text/html": "(1 row affected)"
                    },
                    "metadata": {}
                },
                {
                    "output_type": "display_data",
                    "data": {
                        "text/html": "Total execution time: 00:00:00.679"
                    },
                    "metadata": {}
                }
            ],
            "execution_count": 7
        },
        {
            "cell_type": "markdown",
            "source": [
                "### Select a GeoFence to monitor\r\n",
                "\r\n",
                "In addition to monitoring specific bus routes, you will want to monitor certain GeoFences so you can ultimately get notified when your bus enters or exits where you are (i.e. the GeoFence). For now, you will add a small GeoFence that represents the area near the \"Crossroads\" bus stop."
            ],
            "metadata": {
                "azdata_cell_guid": "a53ad031-a7c3-40a9-bf5b-695a148dbea9"
            }
        },
        {
            "cell_type": "code",
            "source": [
                "-- Create GeoFences table\r\n",
                "CREATE SEQUENCE [dbo].[global]\r\n",
                "    AS INT\r\n",
                "    START WITH 1\r\n",
                "    INCREMENT BY 1\r\n",
                "GO\r\n",
                "CREATE TABLE [dbo].[GeoFences](\r\n",
                "\t[Id] [int] NOT NULL,\r\n",
                "\t[Name] [nvarchar](100) NOT NULL,\r\n",
                "\t[GeoFence] [geography] NOT NULL\r\n",
                ") \r\n",
                "GO\r\n",
                "ALTER TABLE [dbo].[GeoFences] ADD PRIMARY KEY CLUSTERED \r\n",
                "(\r\n",
                "\t[Id] ASC\r\n",
                ")\r\n",
                "GO\r\n",
                "ALTER TABLE [dbo].[GeoFences] ADD DEFAULT (NEXT VALUE FOR [dbo].[global]) FOR [Id]\r\n",
                "GO\r\n",
                "CREATE SPATIAL INDEX [ixsp] ON [dbo].[GeoFences]\r\n",
                "(\r\n",
                "\t[GeoFence]\r\n",
                ") USING GEOGRAPHY_AUTO_GRID \r\n",
                "GO\r\n",
                "\r\n",
                "-- Create a GeoFence\r\n",
                "INSERT INTO dbo.[GeoFences] \r\n",
                "\t([Name], [GeoFence]) \r\n",
                "VALUES\r\n",
                "\t('Crossroads', 0xE6100000010407000000B4A78EA822CF4740E8D7539530895EC03837D51CEACE4740E80BFBE630895EC0ECD7DF53EACE4740E81B2C50F0885EC020389F0D03CF4740E99BD2A1F0885EC00CB8BEB203CF4740E9DB04FC23895EC068C132B920CF4740E9DB04FC23895EC0B4A78EA822CF4740E8D7539530895EC001000000020000000001000000FFFFFFFF0000000003);\r\n",
                "GO\r\n",
                ""
            ],
            "metadata": {
                "azdata_cell_guid": "1cc9823a-4b83-4e91-a36f-8b503abf0347"
            },
            "outputs": [
                {
                    "output_type": "display_data",
                    "data": {
                        "text/html": "Commands completed successfully."
                    },
                    "metadata": {}
                },
                {
                    "output_type": "display_data",
                    "data": {
                        "text/html": "Commands completed successfully."
                    },
                    "metadata": {}
                },
                {
                    "output_type": "display_data",
                    "data": {
                        "text/html": "Commands completed successfully."
                    },
                    "metadata": {}
                },
                {
                    "output_type": "display_data",
                    "data": {
                        "text/html": "Commands completed successfully."
                    },
                    "metadata": {}
                },
                {
                    "output_type": "display_data",
                    "data": {
                        "text/html": "Commands completed successfully."
                    },
                    "metadata": {}
                },
                {
                    "output_type": "display_data",
                    "data": {
                        "text/html": "(1 row affected)"
                    },
                    "metadata": {}
                },
                {
                    "output_type": "display_data",
                    "data": {
                        "text/html": "Total execution time: 00:00:01.309"
                    },
                    "metadata": {}
                }
            ],
            "execution_count": 8
        },
        {
            "cell_type": "markdown",
            "source": [
                "### Create table to track activity in the GeoFence\n",
                "\n",
                "Next, create a system-versioned table to keep track of what activity is currently happening within the GeoFence. This means tracking buses entering, exiting, and staying within a given GeoFence. Another table within that table will serve as a histroical log for all activity."
            ],
            "metadata": {
                "azdata_cell_guid": "46ac87ea-ab53-4c87-9b41-57a3b96924a0"
            }
        },
        {
            "cell_type": "code",
            "source": [
                "CREATE TABLE [dbo].[GeoFencesActive] \r\n",
                "(\r\n",
                "\t[Id] [int] IDENTITY(1,1) NOT NULL PRIMARY KEY CLUSTERED,\r\n",
                "\t[VehicleId] [int] NOT NULL,\r\n",
                "\t[DirectionId] [int] NOT NULL,\r\n",
                "\t[GeoFenceId] [int] NOT NULL,\r\n",
                "\t[SysStartTime] [datetime2](7) GENERATED ALWAYS AS ROW START NOT NULL,\r\n",
                "\t[SysEndTime] [datetime2](7) GENERATED ALWAYS AS ROW END NOT NULL,\r\n",
                "\tPERIOD FOR SYSTEM_TIME ([SysStartTime], [SysEndTime])\r\n",
                ")\r\n",
                "WITH ( SYSTEM_VERSIONING = ON ( HISTORY_TABLE = [dbo].[GeoFencesActiveHistory] ) )\r\n",
                "GO"
            ],
            "metadata": {
                "azdata_cell_guid": "3e3da57b-2132-4788-b46c-20374d080b2f"
            },
            "outputs": [
                {
                    "output_type": "display_data",
                    "data": {
                        "text/html": "Commands completed successfully."
                    },
                    "metadata": {}
                },
                {
                    "output_type": "display_data",
                    "data": {
                        "text/html": "Total execution time: 00:00:00.179"
                    },
                    "metadata": {}
                }
            ],
            "execution_count": 9
        },
        {
            "cell_type": "markdown",
            "source": [
                "### Create a table to store real-time bus data\n",
                "\n",
                "You'll need one last table to store the real-time bus data as it comes in."
            ],
            "metadata": {
                "azdata_cell_guid": "c8d2f9b4-af0e-48c2-a594-e21bb7e297a7"
            }
        },
        {
            "cell_type": "code",
            "source": [
                "CREATE TABLE [dbo].[BusData](\r\n",
                "\t[Id] [int] IDENTITY(1,1) NOT NULL,\r\n",
                "\t[DirectionId] [int] NOT NULL,\r\n",
                "\t[RouteId] [int] NOT NULL,\r\n",
                "\t[VehicleId] [int] NOT NULL,\r\n",
                "\t[Location] [geography] NOT NULL,\r\n",
                "\t[TimestampUTC] [datetime2](7) NOT NULL,\r\n",
                "\t[ReceivedAtUTC] [datetime2](7) NOT NULL\r\n",
                ")\r\n",
                "GO\r\n",
                "ALTER TABLE [dbo].[BusData] ADD DEFAULT (SYSUTCDATETIME()) FOR [ReceivedAtUTC]\r\n",
                "GO\r\n",
                "ALTER TABLE [dbo].[BusData] ADD PRIMARY KEY CLUSTERED \r\n",
                "(\r\n",
                "\t[Id] ASC\r\n",
                ") \r\n",
                "GO\r\n",
                "CREATE NONCLUSTERED INDEX [ix1] ON [dbo].[BusData]\r\n",
                "(\r\n",
                "\t[ReceivedAtUTC] DESC\r\n",
                ") \r\n",
                "GO\r\n",
                "CREATE SPATIAL INDEX [ixsp] ON [dbo].[BusData]\r\n",
                "(\r\n",
                "\t[Location]\r\n",
                ") USING GEOGRAPHY_AUTO_GRID \r\n",
                "GO"
            ],
            "metadata": {
                "azdata_cell_guid": "59797569-2711-4675-ab8a-532e0e2a7c22"
            },
            "outputs": [
                {
                    "output_type": "display_data",
                    "data": {
                        "text/html": "Commands completed successfully."
                    },
                    "metadata": {}
                },
                {
                    "output_type": "display_data",
                    "data": {
                        "text/html": "Commands completed successfully."
                    },
                    "metadata": {}
                },
                {
                    "output_type": "display_data",
                    "data": {
                        "text/html": "Commands completed successfully."
                    },
                    "metadata": {}
                },
                {
                    "output_type": "display_data",
                    "data": {
                        "text/html": "Commands completed successfully."
                    },
                    "metadata": {}
                },
                {
                    "output_type": "display_data",
                    "data": {
                        "text/html": "Commands completed successfully."
                    },
                    "metadata": {}
                },
                {
                    "output_type": "display_data",
                    "data": {
                        "text/html": "Total execution time: 00:00:00.833"
                    },
                    "metadata": {}
                }
            ],
            "execution_count": 10
        },
        {
            "cell_type": "markdown",
            "source": [
                "Confirm you've created the tables with the following."
            ],
            "metadata": {
                "azdata_cell_guid": "48c43e3d-b0d0-462a-aaab-da6ca728b2de"
            }
        },
        {
            "cell_type": "code",
            "source": [
                "SELECT * FROM INFORMATION_SCHEMA.TABLES WHERE TABLE_TYPE = 'BASE TABLE' AND TABLE_SCHEMA = 'dbo'"
            ],
            "metadata": {
                "azdata_cell_guid": "5619e4aa-306c-46e5-9779-699bb29e387a"
            },
            "outputs": [
                {
                    "output_type": "display_data",
                    "data": {
                        "text/html": "(6 rows affected)"
                    },
                    "metadata": {}
                },
                {
                    "output_type": "display_data",
                    "data": {
                        "text/html": "Total execution time: 00:00:00.172"
                    },
                    "metadata": {}
                },
                {
                    "output_type": "execute_result",
                    "execution_count": 12,
                    "data": {
                        "application/vnd.dataresource+json": {
                            "schema": {
                                "fields": [
                                    {
                                        "name": "TABLE_CATALOG"
                                    },
                                    {
                                        "name": "TABLE_SCHEMA"
                                    },
                                    {
                                        "name": "TABLE_NAME"
                                    },
                                    {
                                        "name": "TABLE_TYPE"
                                    }
                                ]
                            },
                            "data": [
                                {
                                    "0": "bus-db",
                                    "1": "dbo",
                                    "2": "Routes",
                                    "3": "BASE TABLE"
                                },
                                {
                                    "0": "bus-db",
                                    "1": "dbo",
                                    "2": "MonitoredRoutes",
                                    "3": "BASE TABLE"
                                },
                                {
                                    "0": "bus-db",
                                    "1": "dbo",
                                    "2": "GeoFences",
                                    "3": "BASE TABLE"
                                },
                                {
                                    "0": "bus-db",
                                    "1": "dbo",
                                    "2": "GeoFencesActive",
                                    "3": "BASE TABLE"
                                },
                                {
                                    "0": "bus-db",
                                    "1": "dbo",
                                    "2": "GeoFencesActiveHistory",
                                    "3": "BASE TABLE"
                                },
                                {
                                    "0": "bus-db",
                                    "1": "dbo",
                                    "2": "BusData",
                                    "3": "BASE TABLE"
                                }
                            ]
                        },
                        "text/html": "<table><tr><th>TABLE_CATALOG</th><th>TABLE_SCHEMA</th><th>TABLE_NAME</th><th>TABLE_TYPE</th></tr><tr><td>bus-db</td><td>dbo</td><td>Routes</td><td>BASE TABLE</td></tr><tr><td>bus-db</td><td>dbo</td><td>MonitoredRoutes</td><td>BASE TABLE</td></tr><tr><td>bus-db</td><td>dbo</td><td>GeoFences</td><td>BASE TABLE</td></tr><tr><td>bus-db</td><td>dbo</td><td>GeoFencesActive</td><td>BASE TABLE</td></tr><tr><td>bus-db</td><td>dbo</td><td>GeoFencesActiveHistory</td><td>BASE TABLE</td></tr><tr><td>bus-db</td><td>dbo</td><td>BusData</td><td>BASE TABLE</td></tr></table>"
                    },
                    "metadata": {}
                }
            ],
            "execution_count": 12
        }
    ]
}